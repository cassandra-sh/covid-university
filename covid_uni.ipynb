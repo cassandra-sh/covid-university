{
 "cells": [
  {
   "cell_type": "code",
   "execution_count": 1,
   "metadata": {},
   "outputs": [],
   "source": [
    "import matplotlib.pyplot as plt\n",
    "import numpy as np\n",
    "\n",
    "import matplotlib\n",
    "matplotlib.rcParams.update(matplotlib.rcParamsDefault)\n",
    "matplotlib.rc('text', usetex=True)\n",
    "matplotlib.rc('font', family='serif', size=18)\n",
    "\n",
    "\n",
    "GRIEVANCE_THRESHOLD = 0.5   # Arbitrary\n",
    "N_STUDENTS          = 500 # Consider a system with 500 students\n",
    "\n",
    "# Maximum time to run for\n",
    "TIME_LIMIT = 100"
   ]
  },
  {
   "cell_type": "markdown",
   "metadata": {},
   "source": [
    "What follows is the basic \"agent\" in the model that all classes will be based on\n",
    "\n",
    "The important idea here is that Agents have their update() function called every timestep, and in that function the Agent needs to evaluate other Agents, and then consider any actions it may have to take."
   ]
  },
  {
   "cell_type": "code",
   "execution_count": 2,
   "metadata": {},
   "outputs": [],
   "source": [
    "class Agent(object):\n",
    "    \n",
    "    def __init__(self):\n",
    "        pass\n",
    "    \n",
    "    def connect(self, **kwargs):\n",
    "        \"\"\"\n",
    "        In this method, this Agent connects itself with other agents\n",
    "        \n",
    "        **kwargs is a dictionary where elements can be accessed like \n",
    "            other_agent = kwargs['other_agent']\n",
    "        \n",
    "        @kwargs\n",
    "            other_agent - some other Agent to be connected to this Agent\n",
    "        \"\"\"\n",
    "        pass\n",
    "    \n",
    "    def consider_action(self):\n",
    "        \"\"\"\n",
    "        In this method, this Agent considers its parameters and decides whether \n",
    "        or not to take any actions it might have\n",
    "        \"\"\"\n",
    "        pass\n",
    "    \n",
    "    \n",
    "    def update(self):\n",
    "        \"\"\"\n",
    "        In this method, this Agent looks at other Agents it is connected to to change its parameters\n",
    "        \"\"\"\n",
    "        self.consider_action()"
   ]
  },
  {
   "cell_type": "markdown",
   "metadata": {},
   "source": [
    "The basic student class is a fairly complicated Agent, but I can break down its parts.\n",
    "\n",
    "First, the Student is created with a few base values associated with \"class\" or socioeconomic background. These are\n",
    "1. hardship_base - the base experience of hardship (negative is more wealthy)\n",
    "2. tuition_value - the amount that this Student cares about tuition ( negative means more tuition is bad )\n",
    "3. dev_value     - the amount that this Studeny cares about development ( positive means more development is good)\n",
    "\n",
    "Second, there is only one action the Student can take, and that is to drop out. They will do this based on their grievance, which is a function of their experienced hardship and the perceived legitimacy that the university has with them.\n",
    "\n",
    "The grievance is calculated during update() by adding the base hardship to the tuition to get the experienced hardship. The experienced hardship is multiplied by (1 - legitimacy). If it exceeds an arbitrary value, the Student drops out.\n",
    "\n",
    "The legitimacy of the university comes from the Discourse that the student partakes in. \n",
    "\n",
    "In this basic implementation of the Student class, there is no student-student interaction or resistance other than simply dropping out. Students each participate in 1 discourse, which is their connection to other students. You could program an increased number of discourses, in which case perhaps students take an average. "
   ]
  },
  {
   "cell_type": "code",
   "execution_count": 3,
   "metadata": {
    "code_folding": [
     51,
     111
    ]
   },
   "outputs": [],
   "source": [
    " class Student(Agent):\n",
    "    \n",
    "    def __init__(self, hardship_base, tuition_value, dev_value):\n",
    "        \"\"\"\n",
    "        Create the student\n",
    "        \"\"\"\n",
    "        self.paying        = True           # whether or not student is attending university\n",
    "        \n",
    "        self.hardship_base = hardship_base  # represents class background\n",
    "        self.tuition_value = tuition_value  # represents value placed on low tuition\n",
    "        self.dev_value     = dev_value      # represents value based on university development\n",
    "        \n",
    "        self.hardship   = 0  # represents total experienced hardship\n",
    "        self.legitimacy = 1  # represents perceived legitimacy of university\n",
    "        self.grievance  = 0  # represents total unhappiness with university\n",
    "        \n",
    "        self.utility_memory = [] # will store student utility function values in previous time steps\n",
    "        self.m_step = 10 # number of previous time steps for utility function memory\n",
    "        self.a = [0,1]   # 2 states of resistance for a student. 0 means not resisting or not dropping out\n",
    "        self.w1 = 0.5    # percentage that student motivation factors into the final decision for resistance\n",
    "        self.c1 = 2      # affordability-to-tuition:income ratio, a high value means a small increase in \n",
    "                         # tuition will rapidly reduce student's ability to pay for college \n",
    "        self.c3 = 1      # tutition-to-income ratio at which students feel a neutral level of resistance \n",
    "                         # value will be used to calculate c2 function (c2 = c3*c1)\n",
    "        \n",
    "        self.income = 0.2 # current student income & savings \n",
    "                          # (0.2 * 10^5 dollars, scaled down just to match with university tuition)\n",
    "    \n",
    "    def connect(self,  **kwargs):\n",
    "        \"\"\"\n",
    "        Connect this Student to their Discourse, Faculty, and University\n",
    "        \n",
    "        @kwargs\n",
    "            university - the University Agent this Student is part of\n",
    "            discourse  - the Discourse Agent this Student is part of\n",
    "            faculty    - the Faculty Agent this Student is taught by\n",
    "        \"\"\"\n",
    "        self.university = kwargs['university']\n",
    "        self.discourse  = kwargs['discourse']\n",
    "        self.faculty    = kwargs['faculty']\n",
    "        \n",
    "    def consider_payment(self):\n",
    "        \"\"\"\n",
    "        If the grievance is greater than a threshold, drop out\n",
    "        \"\"\"\n",
    "        if self.grievance > GRIEVANCE_THRESHOLD:\n",
    "            self.paying = False\n",
    "        else:\n",
    "            self.paying = True\n",
    "            \n",
    "    def prediction(self, utility_memory):\n",
    "        \"\"\"\n",
    "        Description: \n",
    "            Introduces a degree of uncertainty to the student's decision. This value is calcuated by averaging \n",
    "            the utility history for a certain number of previous time steps\n",
    "        \n",
    "            Parameters:\n",
    "            utility_memory: An array of utility values in the previous time steps (array size:1-by-m_step)\n",
    "\n",
    "            Returns:\n",
    "            uncertainty: A constant to divide the utility function by\n",
    "        \"\"\"\n",
    "        \n",
    "        if len(utility_memory)==0:  # to avoid dividing by nan (empty list) during the initial time step\n",
    "            uncertainty = 1\n",
    "        else:\n",
    "            uncertainty = np.average(utility_memory)\n",
    "        return(uncertainty)\n",
    "        \n",
    "        \n",
    "    def utility(self):\n",
    "        \"\"\"\n",
    "        Description:\n",
    "            The utility function\n",
    "        \n",
    "            Parameters:\n",
    "            m_step: A scalar value for the number of previous time steps to use for utility function memory\n",
    "            legitimacy: a high value of 1 means university is more legitimate and 0 if otherwise \n",
    "            income: total annual income & student savings\n",
    "            tuition: total annual tuition cost (set by university class)\n",
    "            c1: the rate of affordability vs tuition-to-income ratio (slope of the logit function)\n",
    "            c2: tuition-to-income ratio at which students can no longer afford college & more likely to resist \n",
    "            (value at which logit function goes to 0)\n",
    "            w1: relative weight of how much a student's motivation factors into decision for resistance\n",
    "        \n",
    "            Returns: \n",
    "            paying: state of resistance for a student (True means they are still attending college and False if not) \n",
    "        \"\"\"\n",
    "        \n",
    "        # using the tuition:income ratio to determine student affordability. \n",
    "        # afford=0 means student tution:income ratio is way too high to afford college. \n",
    "        # afford=1 means student is financially stable and can afford college.\n",
    "        self.c2 = self.c3 * self.c1\n",
    "        afford = 1 - 1/(1 + np.exp(-1 * self.c1 * (self.university.tuition/self.income) + self.c2))\n",
    "        \n",
    "        # including legitimacy to determine student's motivation level to keep attending college\n",
    "        # motivation=0 means student is less likely to attend college & more likely to resist\n",
    "        motivation = self.legitimacy*afford\n",
    "        \n",
    "        # utility function will try resistance, a=0 or a=1 and select the value which maximizes it\n",
    "        # 1-by-2 array, 1st value is utility with a=0, 2nd value is utility with a=1\n",
    "        utility = self.w1*np.square(self.a - motivation)/self.prediction(self.utility_memory)   \n",
    "        self.memory(np.max(utility), self.m_step)\n",
    "        \n",
    "        # Determining whether a=0 or a=1 maximized the utility function\n",
    "        if np.argmax(utility) == 0:\n",
    "            self.paying = True\n",
    "        else:\n",
    "            self.paying = False\n",
    "        \n",
    "    \n",
    "    def memory(self, utility, m_step):\n",
    "        \"\"\"\n",
    "        Description: \n",
    "            Keeps track of values in the utility_memory array. Adds most recent value to the front of the list\n",
    "            and deletes values greater than m_steps ago\n",
    "        \n",
    "            Parameters:\n",
    "            m_step: number of previous time steps for utility function memory\n",
    "            utility: maximum value of the utility function for the current time step\n",
    "\n",
    "            Returns:\n",
    "            utility_memory: m_step most recent values of the utility function \n",
    "        \"\"\"           \n",
    "        \n",
    "        self.utility_memory.insert(0,utility) # most recent utility function value added to front of the list\n",
    "        if len(self.utility_memory) > m_step:\n",
    "            del self.utility_memory[m_step+1:]     # delete all values before m_steps from end of list\n",
    "        return self.utility_memory\n",
    "    \n",
    "    def update(self):\n",
    "        \"\"\"\n",
    "        Update the Student's parameters to reflect changes in tuition and discourse\n",
    "        \"\"\"\n",
    "            \n",
    "        # Hardship is just base hardship from wealthyness + cost of school\n",
    "        self.hardship   = self.hardship_base + self.university.tuition\n",
    "        \n",
    "        # Legitimacy comes from the discourse that the student partakes in\n",
    "        #self.legitimacy = self.discourse.legitimacy\n",
    "        \n",
    "        # Grievance comes from how bad things are modified by how legitimate\n",
    "        # the student perceives the university to be\n",
    "        self.grievance  = self.hardship * (1 - self.legitimacy)\n",
    "        \n",
    "        #self.consider_payment()\n",
    "        self.utility()"
   ]
  },
  {
   "cell_type": "markdown",
   "metadata": {},
   "source": [
    "The basic implementation of the Discourse Agent is quite simple: when updating, the Discourse takes a group of students and computes an independent legitimacy for each one, then averages it. \n",
    "\n",
    "You could imagine a situation where different Students are associated with different Discourses, and also where there is a feedback onto the student, where the Discourse changes the values of the Students. For now, it doesn't - it simply averages all of the students together. \n",
    "\n",
    "The legitimacy is computed by multiplying the value the student has by the paramter from the university in question. A larger number means more legitimacy. In this case, there are two parameters to consider:\n",
    "1. tuition - student.tuition_value is always negative because no one wants to pay more tuition\n",
    "2. development - student.dev_value may be positive or negative depending on what that student prioritizes as a student, and also what development means practically for the student experience (consider the effect on humnaities students when the university diverts funding into an engineering department, for example)"
   ]
  },
  {
   "cell_type": "code",
   "execution_count": 4,
   "metadata": {
    "code_folding": []
   },
   "outputs": [],
   "source": [
    "class Discourse(Agent):\n",
    "    \n",
    "    def __init__(self):\n",
    "        \"\"\"\n",
    "        Create the discourse\n",
    "        \"\"\"\n",
    "        self.legitimacy = 1 \n",
    "    \n",
    "    def connect(self,  **kwargs):\n",
    "        \"\"\"\n",
    "        Connect this Discourse to the group of students participating as well as the University\n",
    "        \n",
    "        @kwargs\n",
    "            university - the University Agent this discourse is discussing\n",
    "            students   - list of Student Agents which are participating in this discourse\n",
    "            faculty    - the Faculty Agent this discourse is connected to\n",
    "        \"\"\"\n",
    "        self.students = kwargs['students']\n",
    "        self.university = kwargs['university']\n",
    "        self.faculty = kwargs['faculty']\n",
    "        \n",
    "    def update(self):\n",
    "        \"\"\"\n",
    "        Update the discourse to represent tuition changes\n",
    "        \n",
    "        legitimacy is the average of the students value of development * amount of development\n",
    "        plus the students value of tuition (always negative) * tuition amount\n",
    "        \n",
    "        So more development usually means more legitimacy, and more tuition usually means less. \n",
    "        \n",
    "        @kwargs\n",
    "            students   - a list of Student objects\n",
    "            university - the University object being attended\n",
    "        \"\"\"\n",
    "        legitimacies = []\n",
    "        \n",
    "        for student in self.students:\n",
    "            legitimacies.append(student.dev_value        * self.university.development \n",
    "                                 + student.tuition_value * self.university.tuition    )\n",
    "        \n",
    "        self.legitimacy = np.mean(legitimacies)"
   ]
  },
  {
   "cell_type": "markdown",
   "metadata": {},
   "source": [
    "The basic University Agent has a few parameters to be concenred with.\n",
    "1. tuition - how much money it gets from each student\n",
    "2. development - amount of invested money in things like buildings, departments, etc\n",
    "3. revenue - how much money the university is bringing in\n",
    "4. revenue-threshold - something akin to an operating cost.\n",
    "\n",
    "The basic dynamic is this: if the average revenue (based on some memory) is less than the threshold, the tuition must be raised so that more revenue can be created. This is like justifying a fee hike because the current revenue isnt meeting the cost of operating the university.\n",
    "\n",
    "If the revenue is greater than the threshold, it is invested in development. However, this investment also causes an increase in costs (and thus the revenue_threshold).\n",
    "\n",
    "Revenue may drop if students drop out, so this will often lead to a positive feedback as the tuition is raised to cover those students who drop out. Meanwhile, only the wealthier students remain behind. \n",
    "\n",
    "So, you can see that the tuition never goes down. I justify this by saying that, historically, it hasn't!"
   ]
  },
  {
   "cell_type": "code",
   "execution_count": 5,
   "metadata": {
    "code_folding": []
   },
   "outputs": [],
   "source": [
    "class University(Agent):\n",
    "    \n",
    "    def __init__(self):\n",
    "        \"\"\"\n",
    "        Create the university\n",
    "        \"\"\"\n",
    "        self.tuition           = 0  # Cost of attendance\n",
    "        self.development       = 0  # Degree of development, such as construction\n",
    "        self.revenue_threshold = 0  # Like an operating cost\n",
    "        self.memory_length     = 5  # Number of timesteps where the university remembers revenue\n",
    "        \n",
    "        self.revenue = None\n",
    "        self.revenue_memory = []\n",
    "    \n",
    "    def connect(self,  **kwargs):\n",
    "        \"\"\"\n",
    "        Connect this University to the group of students attending\n",
    "        \n",
    "        @kwargs\n",
    "            students - list of Student Agents (the student body of the university)\n",
    "            faculty  - the Faculty Agent of the university\n",
    "        \"\"\"\n",
    "        self.students = kwargs['students']\n",
    "        self.faculty  = kwargs['faculty']\n",
    "        \n",
    "    def consider_tuition(self):\n",
    "        \"\"\"\n",
    "        Consider whether the university either raises tuition or develops itself a bit\n",
    "        \"\"\"\n",
    "        \n",
    "        # If the average of revenue memory is less than the preferred amount, raise tuition\n",
    "        if np.mean(self.revenue_memory) < self.revenue_threshold:\n",
    "            self.tuition    = self.tuition + 0.02\n",
    "            \n",
    "        # Otherwise, develop the university and increase operating costs\n",
    "        # by a little bit. Will need to tune these numbers. \n",
    "        else:\n",
    "            self.development       = self.development + 0.01\n",
    "            self.revenue_threshold = self.revenue_threshold + N_STUDENTS * 0.01\n",
    "            \n",
    "    def update(self):\n",
    "        \"\"\"\n",
    "        Update the university to represent changes in number of students\n",
    "        \"\"\"\n",
    "        \n",
    "        # Determine the number of paying students\n",
    "        n_paying_students = np.sum([int(student.paying) for student in self.students])\n",
    "        \n",
    "        # Determine revenue from the number of paying students\n",
    "        self.revenue = self.tuition * n_paying_students  \n",
    "        \n",
    "        # Update the memory of the university\n",
    "        if len(self.revenue_memory) > self.memory_length:\n",
    "            self.revenue_memory.pop(0)\n",
    "        self.revenue_memory.append(self.revenue)\n",
    "        \n",
    "        self.consider_tuition()\n",
    "       "
   ]
  },
  {
   "cell_type": "markdown",
   "metadata": {},
   "source": [
    "The Faculty Agent class is a stub. Currently Faculty does nothing, but you could program in some dynamics to see if they do anything. What actions might they take? Perhaps teach classes about why the neoliberal university is bad. "
   ]
  },
  {
   "cell_type": "code",
   "execution_count": 6,
   "metadata": {
    "code_folding": [
     0
    ]
   },
   "outputs": [],
   "source": [
    "class Faculty(Agent):\n",
    "    \n",
    "    def __init__(self):\n",
    "        \"\"\"\n",
    "        Create the faculty and their parameters\n",
    "        \"\"\"\n",
    "    \n",
    "    def connect(self, **kwargs):\n",
    "        \"\"\"\n",
    "        Connect this faculty to the student body and the university\n",
    "        \"\"\"\n",
    "        self.students   = kwargs['students']\n",
    "        self.university = kwargs['university']\n",
    "    \n",
    "    def consider_action(self):\n",
    "        \"\"\"\n",
    "        Consider whether the faculty will take some action\n",
    "        \"\"\"\n",
    "        pass\n",
    "    \n",
    "    def update(self):\n",
    "        \"\"\"\n",
    "        Update the faculty's parameters based on the other Agent's parameters\n",
    "        \"\"\"\n",
    "        pass"
   ]
  },
  {
   "cell_type": "markdown",
   "metadata": {},
   "source": [
    "Explanation of instantiation code\n",
    "\n",
    "Basically, this should reflect the class stratification of the University. \n",
    "1. We have students from rich families that basically like neoliberalism and think the development is well worth the cost of raised tuition.\n",
    "2. We have poor students that don't care at all. \n",
    "3. We have international students who represent specific classes internationally. \n",
    "4. We have students who will experience different sides of the university -i.e. STEM versus humanities. For whom \"development\" means budget cuts.\n",
    "    \n",
    "Currently all of these dynamics are not modeled, but may come in here where different student populations have different parameter statistics"
   ]
  },
  {
   "cell_type": "code",
   "execution_count": 7,
   "metadata": {},
   "outputs": [],
   "source": [
    "# Instantiate the student population\n",
    "students = []\n",
    "for i in range(N_STUDENTS):\n",
    "    \n",
    "    # Create a hardship base from an even distribution between -0.5 and 0.5\n",
    "    hardship_base = np.random.rand(1) - 0.5\n",
    "    \n",
    "    # Create tuition value between 0 and -1 (i.e. tuition is always bad)\n",
    "    # Create development value between -0.1 and 0.4 (i.e. development is usually good)\n",
    "    tuition_value = -1*np.random.rand(1)\n",
    "    dev_value     =  0.5*np.random.rand(1) - 0.1\n",
    "    \n",
    "    students.append(Student(hardship_base, tuition_value, dev_value))\n",
    "    \n",
    "# Instantiate a few discourses\n",
    "discourses = [Discourse(), Discourse(), Discourse()]\n",
    "\n",
    "# Instantiate the university\n",
    "university = University()\n",
    "\n",
    "# Instantiate a faculty\n",
    "faculty = Faculty()\n"
   ]
  },
  {
   "cell_type": "markdown",
   "metadata": {},
   "source": [
    "This code connects up the Agents to each other, so they can evaluate the other's situations and update their parameters"
   ]
  },
  {
   "cell_type": "code",
   "execution_count": 8,
   "metadata": {},
   "outputs": [],
   "source": [
    "university.connect(students=students, faculty=faculty)\n",
    "faculty.connect(students=students, university=university)\n",
    "\n",
    "# Create 3 groups of student, of different sizes\n",
    "student_groups = [students[0:100], students[100:200], students[200:500]]\n",
    "\n",
    "# Then connect the 3 discourses to the 3 groups\n",
    "for discourse, group in zip(discourses, student_groups):\n",
    "    \n",
    "    discourse.connect(students=group, university=university, faculty=faculty)\n",
    "    for student in group:\n",
    "        student.connect(discourse=discourse, university=university, faculty=faculty)"
   ]
  },
  {
   "cell_type": "markdown",
   "metadata": {},
   "source": [
    "Start the simulation\n",
    "\n",
    "For each time step, advance time, then update each agent.\n",
    "\n",
    "Finally, get any information from agents that we are interested in charting over time. "
   ]
  },
  {
   "cell_type": "code",
   "execution_count": 9,
   "metadata": {},
   "outputs": [],
   "source": [
    "time = 0\n",
    "\n",
    "n_students  = []\n",
    "tuition     = []\n",
    "development = []\n",
    "revenue_avg = []\n",
    "\n",
    "while time < TIME_LIMIT:\n",
    "    \n",
    "    # Advance time\n",
    "    time = time + 1\n",
    "    \n",
    "    # Update every agent\n",
    "    for student in students:\n",
    "        student.update()\n",
    "    for discourse in discourses:\n",
    "        discourse.update()\n",
    "    university.update()\n",
    "    faculty.update()\n",
    "    \n",
    "    # Get any information we are interested in plotting later.     \n",
    "    n_students.append(np.sum([int(student.paying) for student in students]))\n",
    "    tuition.append(university.tuition)\n",
    "    development.append(university.development)\n",
    "    revenue_avg.append(np.mean(university.revenue_memory))\n",
    "    "
   ]
  },
  {
   "cell_type": "markdown",
   "metadata": {},
   "source": [
    "Make some plots\n",
    "1. the attendance of the university over time.\n",
    "2. the running average university revenue over time\n",
    "3. the tuition and development of the university over time"
   ]
  },
  {
   "cell_type": "code",
   "execution_count": 10,
   "metadata": {},
   "outputs": [
    {
     "data": {
      "image/png": "[encoded data removed]",
      "text/plain": [
       "<Figure size 432x288 with 1 Axes>"
      ]
     },
     "metadata": {
      "needs_background": "light"
     },
     "output_type": "display_data"
    }
   ],
   "source": [
    "plt.figure()\n",
    "plt.plot(np.arange(0, TIME_LIMIT, 1), n_students)\n",
    "plt.xlabel(\"Time\")\n",
    "plt.ylabel(\"Number of Students Attending\")\n",
    "plt.title(\"Figure 1: Attendance\")\n",
    "plt.show()"
   ]
  },
  {
   "cell_type": "markdown",
   "metadata": {},
   "source": [
    "Fig 1: Around the time point of 30, the current value of tuition which started from 0 has reached a value of 0.2. The income-to-tuition ratio (c3 = c2/c1) which is acceptable by students is 1 where the set income is 0.2 resulting in a tolerated tuition of 0.2. Higher tuition values generate resistance and students drop out."
   ]
  },
  {
   "cell_type": "code",
   "execution_count": 11,
   "metadata": {},
   "outputs": [
    {
     "data": {
      "image/png": "[encoded data removed]",
      "text/plain": [
       "<Figure size 432x288 with 1 Axes>"
      ]
     },
     "metadata": {
      "needs_background": "light"
     },
     "output_type": "display_data"
    }
   ],
   "source": [
    "plt.figure()\n",
    "plt.plot(np.arange(0, TIME_LIMIT, 1),revenue_avg)\n",
    "plt.xlabel(\"Time\")\n",
    "plt.ylabel(\"Running average revenue\")\n",
    "plt.title(\"Figure 2: Revenue\")\n",
    "plt.show()"
   ]
  },
  {
   "cell_type": "code",
   "execution_count": 12,
   "metadata": {},
   "outputs": [
    {
     "data": {
      "image/png": "[encoded data removed]",
      "text/plain": [
       "<Figure size 432x288 with 1 Axes>"
      ]
     },
     "metadata": {
      "needs_background": "light"
     },
     "output_type": "display_data"
    }
   ],
   "source": [
    "plt.figure()\n",
    "plt.plot(np.arange(0, TIME_LIMIT, 1), tuition, label='Tuition')\n",
    "plt.plot(np.arange(0, TIME_LIMIT, 1), development, label='Development')\n",
    "plt.xlabel(\"Time\")\n",
    "plt.ylabel(\"University Parameters\")\n",
    "plt.title(\"Figure 3: Tuition and Development\")\n",
    "plt.legend()\n",
    "plt.show()"
   ]
  },
  {
   "cell_type": "markdown",
   "metadata": {},
   "source": [
    "So clearly under this system it is only a matter of time before the university fails and all students drop out, because the costs always go up (which, to be fair, they do!) \n",
    "\n",
    "But, even though tuition goes up, folks are willing to pay more these days than they were 50 years ago. Sounds like the tuition_value has grown closer to 0 (i.e. students dislike tuition less) - how might we model that?"
   ]
  },
  {
   "cell_type": "markdown",
   "metadata": {},
   "source": [
    "A few dynamical notes\n",
    "1. There are two modes: one where the tuition and development are increasing together (i.e. more development means more fees, and this is ok because more development means more legitimacy, but people are still dropping out) and one where the tuition goes up rapidly to account for students dropping out.Therefore, even if you value development much more than you care about tuition, it will still be too much in the end. \n",
    "2. The number of students always drops - but in reality, the number of students is increasing, with student loans making up the economic difference. This might be modeled as another object class - the \"economy\", which can make the student base hardship more or less bad, depending on group.\n",
    "3. I think this points to a fundamental question overall, which is: why are students willing to pay more under normal conditions? Because covid-19 will either challenge or not challenge that reason. \n",
    "4. I think another dynamic from covid-19 will be to decrease the \"perceived\" development of the university - after all, what are the buildings good for if you're taking all your classes online?"
   ]
  },
  {
   "cell_type": "code",
   "execution_count": null,
   "metadata": {},
   "outputs": [],
   "source": []
  },
  {
   "cell_type": "code",
   "execution_count": null,
   "metadata": {},
   "outputs": [],
   "source": []
  },
  {
   "cell_type": "code",
   "execution_count": null,
   "metadata": {},
   "outputs": [],
   "source": []
  }
 ],
 "metadata": {
  "kernelspec": {
   "display_name": "Python 3",
   "language": "python",
   "name": "python3"
  },
  "language_info": {
   "codemirror_mode": {
    "name": "ipython",
    "version": 3
   },
   "file_extension": ".py",
   "mimetype": "text/x-python",
   "name": "python",
   "nbconvert_exporter": "python",
   "pygments_lexer": "ipython3",
   "version": "3.7.3"
  }
 },
 "nbformat": 4,
 "nbformat_minor": 2
}
