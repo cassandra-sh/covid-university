{
 "cells": [
  {
   "cell_type": "code",
   "execution_count": 82,
   "metadata": {},
   "outputs": [],
   "source": [
    "import matplotlib.pyplot as plt\n",
    "import numpy as np\n",
    "\n",
    "GRIEVANCE_THRESHOLD = 0.5   # Arbitrary\n",
    "N_STUDENTS          = 5000 # Consider a system with 5,000 students\n",
    "\n",
    "# Set the time interval over which the students, discourse, and\n",
    "# university update themselves\n",
    "student_timestep    = 2\n",
    "discourse_timestep  = 1\n",
    "university_timestep = 10\n",
    "\n",
    "# Maximum time to run for\n",
    "TIME_LIMIT = 500"
   ]
  },
  {
   "cell_type": "markdown",
   "metadata": {},
   "source": [
    "Explanation of student class"
   ]
  },
  {
   "cell_type": "code",
   "execution_count": 68,
   "metadata": {},
   "outputs": [],
   "source": [
    "class Student(object):\n",
    "    \n",
    "    def __init__(self, hardship_base, tuition_value, dev_value):\n",
    "        \"\"\"\n",
    "        Create the student\n",
    "        \"\"\"\n",
    "        self.paying        = True           # whether or not student is attending university\n",
    "        \n",
    "        self.hardship_base = hardship_base  # represents class background\n",
    "        self.tuition_value = tuition_value  # represents value placed on low tuition\n",
    "        self.dev_value     = dev_value      # represents value based on university development\n",
    "        \n",
    "        self.hardship   = 0  # represents total experienced hardship\n",
    "        self.legitimacy = 1  # represents perceived legitimacy of university\n",
    "        self.grievance  = 0  # represents total unhappiness with university\n",
    "    \n",
    "    def update(self, university, discourse):\n",
    "        \"\"\"\n",
    "        Update the Student's parameters to reflect changes in tuition and discourse\n",
    "        \n",
    "        @params\n",
    "            university - the University object this student is part of\n",
    "            discourse  - the Discourse object this student is part of\n",
    "        \"\"\"\n",
    "        # Hardship is just base hardship from wealthyness + cost of school\n",
    "        self.hardship   = self.hardship_base + university.tuition\n",
    "        \n",
    "        # Legitimacy comes from the discourse that the student partakes in\n",
    "        self.legitimacy = discourse.legitimacy\n",
    "        \n",
    "        # Grievance comes from how bad things are modified by how legitimate\n",
    "        # the student perceives the university to be\n",
    "        self.grievance  = self.hardship * (1 - self.legitimacy)\n",
    "    \n",
    "    \n",
    "    def consider_payment(self):\n",
    "        \"\"\"\n",
    "        If the grievance is greater than a threshold, drop out\n",
    "        \"\"\"\n",
    "        if self.grievance > GRIEVANCE_THRESHOLD:\n",
    "            self.paying = False\n",
    "        else:\n",
    "            self.paying = True\n",
    "            "
   ]
  },
  {
   "cell_type": "markdown",
   "metadata": {},
   "source": [
    "Explanation of discourse class"
   ]
  },
  {
   "cell_type": "code",
   "execution_count": 69,
   "metadata": {},
   "outputs": [],
   "source": [
    "class Discourse(object):\n",
    "    \n",
    "    def __init__(self):\n",
    "        \"\"\"\n",
    "        Create the discourse\n",
    "        \"\"\"\n",
    "        self.legitimacy = 1 \n",
    "    \n",
    "    def update(self, students, university):\n",
    "        \"\"\"\n",
    "        Update the discourse to represent tuition changes\n",
    "        \n",
    "        legitimacy is the average of the students value of development * amount of development\n",
    "        plus the students value of tuition (always negative) * tuition amount\n",
    "        \n",
    "        So more development usually means more legitimacy, and more tuition usually means less. \n",
    "        \n",
    "        @params\n",
    "            students   - a list of Student objects\n",
    "            university - the University object being attended\n",
    "        \"\"\"\n",
    "        self.legitimacy = np.mean([(student.dev_value       * university.development \n",
    "                                    + student.tuition_value * university.tuition    ) for student in students])\n",
    "        \n",
    "    "
   ]
  },
  {
   "cell_type": "markdown",
   "metadata": {},
   "source": [
    "Explanation of University"
   ]
  },
  {
   "cell_type": "code",
   "execution_count": 70,
   "metadata": {},
   "outputs": [],
   "source": [
    "class University(object):\n",
    "    \n",
    "    def __init__(self):\n",
    "        \"\"\"\n",
    "        Create the university\n",
    "        \"\"\"\n",
    "        self.tuition           = 0\n",
    "        self.development       = 0\n",
    "        self.revenue_threshold = 0\n",
    "        \n",
    "        self.revenue = None\n",
    "    \n",
    "    def update(self, students):\n",
    "        \"\"\"\n",
    "        Update the university to represent changes in number of students\n",
    "        \n",
    "        @params\n",
    "            students   - a list of Student objects\n",
    "        \"\"\"\n",
    "        n_paying_students = np.sum([int(student.paying) for student in students])\n",
    "        \n",
    "        self.revenue = self.tuition * n_paying_students\n",
    "    \n",
    "    def consider_tuition(self):\n",
    "        \"\"\"\n",
    "        Consider whether the university either raises tuition or develops itself a bit\n",
    "        \"\"\"\n",
    "        \n",
    "        # If the revenue is less than the preferred amount, raise tuition\n",
    "        if self.revenue < self.revenue_threshold:\n",
    "            self.tuition    = self.tuition + 0.01\n",
    "            \n",
    "        # Otherwise, develop the university and increase operating costs\n",
    "        # by a little bit. Will need to tune these numbers. \n",
    "        else:\n",
    "            self.development       = self.development + 0.01\n",
    "            self.revenue_threshold = self.revenue_threshold + N_STUDENTS * 0.01      \n",
    "        "
   ]
  },
  {
   "cell_type": "markdown",
   "metadata": {},
   "source": [
    "Explanation of instantiation code\n",
    "\n",
    "Basically, this should reflect the class stratification of the University. \n",
    "    We have students from rich families that basically like neoliberalism and think the development is well worth the cost of raised tuition.\n",
    "    We have poor students that don't care at all. \n",
    "    We have international students who represent specific classes internationally. \n",
    "    We have students who will experience different sides of the university -i.e. STEM versus humanities. For whom \"development\" means budget cuts.\n",
    "    \n",
    "Currently all of these dynamics are not modeled, but may come in here where different student populations have different parameter statistics"
   ]
  },
  {
   "cell_type": "code",
   "execution_count": 83,
   "metadata": {},
   "outputs": [],
   "source": [
    "# Instantiate the student population\n",
    "students = []\n",
    "for i in range(N_STUDENTS):\n",
    "    \n",
    "    # Create a hardship base from a normal distribution between 0 and 1\n",
    "    hardship_base = np.random.rand(1) \n",
    "    \n",
    "    # Create tuition value between 0 and -1 (i.e. tuition is always bad)\n",
    "    # Create development value between -0.1 and 0.4 (i.e. development is usually good)\n",
    "    tuition_value = -1*np.random.rand(1)\n",
    "    dev_value     =  0.5*np.random.rand(1) - 0.1\n",
    "    \n",
    "    students.append(Student(hardship_base, tuition_value, dev_value))"
   ]
  },
  {
   "cell_type": "markdown",
   "metadata": {},
   "source": [
    "Discourse instantiation\n",
    "Multiple discourses maybe???"
   ]
  },
  {
   "cell_type": "code",
   "execution_count": 72,
   "metadata": {},
   "outputs": [],
   "source": [
    "# Instantiate the discourse\n",
    "\n",
    "discourse = Discourse()\n",
    "\n",
    "# Instantiate the university\n",
    "\n",
    "university = University()"
   ]
  },
  {
   "cell_type": "markdown",
   "metadata": {},
   "source": [
    "Start the simulation"
   ]
  },
  {
   "cell_type": "code",
   "execution_count": 73,
   "metadata": {},
   "outputs": [],
   "source": [
    "time = 0\n",
    "\n",
    "n_students  = []\n",
    "tuition     = []\n",
    "development = []\n",
    "\n",
    "while time < TIME_LIMIT:\n",
    "    \n",
    "    if time % student_timestep == 0:\n",
    "        for student in students:\n",
    "            student.update(university, discourse)\n",
    "            student.consider_payment()\n",
    "    \n",
    "    if time % discourse_timestep == 0:\n",
    "        discourse.update(students, university)\n",
    "    \n",
    "    if time % university_timestep == 0:\n",
    "        university.update(students)\n",
    "        university.consider_tuition()\n",
    "    \n",
    "    time = time + 1\n",
    "    \n",
    "    n_students.append(np.sum([int(student.paying) for student in students]))\n",
    "    tuition.append(university.tuition)\n",
    "    development.append(university.development)"
   ]
  },
  {
   "cell_type": "markdown",
   "metadata": {},
   "source": [
    "Make some plots"
   ]
  },
  {
   "cell_type": "code",
   "execution_count": 74,
   "metadata": {},
   "outputs": [
    {
     "data": {
      "image/png": "[encoded data removed]",
      "text/plain": [
       "<Figure size 432x288 with 1 Axes>"
      ]
     },
     "metadata": {
      "needs_background": "light"
     },
     "output_type": "display_data"
    }
   ],
   "source": [
    "plt.figure()\n",
    "plt.plot(np.arange(0, TIME_LIMIT, 1), n_students)\n",
    "plt.xlabel(\"Time\")\n",
    "plt.ylabel(\"Number of Students Attending\")\n",
    "plt.show()"
   ]
  },
  {
   "cell_type": "code",
   "execution_count": 75,
   "metadata": {},
   "outputs": [
    {
     "data": {
      "image/png": "[encoded data removed]",
      "text/plain": [
       "<Figure size 432x288 with 1 Axes>"
      ]
     },
     "metadata": {
      "needs_background": "light"
     },
     "output_type": "display_data"
    }
   ],
   "source": [
    "plt.figure()\n",
    "plt.plot(np.arange(0, TIME_LIMIT, 1), tuition, label='Tuition')\n",
    "plt.plot(np.arange(0, TIME_LIMIT, 1), development, label='Development')\n",
    "plt.xlabel(\"Time\")\n",
    "plt.ylabel(\"University Parameters\")\n",
    "plt.legend()\n",
    "plt.show()"
   ]
  },
  {
   "cell_type": "markdown",
   "metadata": {},
   "source": [
    "So clearly under this system it is only a matter of time before the university fails and all students drop out, because the costs always go up (which, to be fair, they do!) \n",
    "\n",
    "But, even though tuition goes up, folks are willing to pay more these days than they were 50 years ago. Sounds like the tuition_value has grown closer to 0 (i.e. students dislike tuition less) - how might we model that?"
   ]
  },
  {
   "cell_type": "code",
   "execution_count": 84,
   "metadata": {},
   "outputs": [
    {
     "data": {
      "image/png": "[encoded data removed]",
      "text/plain": [
       "<Figure size 432x288 with 1 Axes>"
      ]
     },
     "metadata": {
      "needs_background": "light"
     },
     "output_type": "display_data"
    },
    {
     "data": {
      "image/png": "[encoded data removed]",
      "text/plain": [
       "<Figure size 432x288 with 1 Axes>"
      ]
     },
     "metadata": {
      "needs_background": "light"
     },
     "output_type": "display_data"
    },
    {
     "data": {
      "image/png": "[encoded data removed]",
      "text/plain": [
       "<Figure size 432x288 with 1 Axes>"
      ]
     },
     "metadata": {
      "needs_background": "light"
     },
     "output_type": "display_data"
    }
   ],
   "source": [
    "# Reset the population\n",
    "students = []\n",
    "for i in range(N_STUDENTS):\n",
    "    hardship_base = np.random.rand(1) \n",
    "    tuition_value = -1*np.random.rand(1)\n",
    "    dev_value     =  0.5*np.random.rand(1) - 0.1\n",
    "    students.append(Student(hardship_base, tuition_value, dev_value))\n",
    "university = University()\n",
    "discourse  = Discourse()\n",
    "\n",
    "time = 0\n",
    "\n",
    "n_students  = []\n",
    "tuition     = []\n",
    "development = []\n",
    "tuition_value_avg = []\n",
    "\n",
    "while time < TIME_LIMIT:\n",
    "    \n",
    "    if time % student_timestep == 0:\n",
    "        for student in students:\n",
    "            student.update(university, discourse)\n",
    "            student.consider_payment()\n",
    "    \n",
    "    if time % discourse_timestep == 0:\n",
    "        discourse.update(students, university)\n",
    "        \n",
    "        # Here we decrease the magnitude of tuition value a little bit each discourse step\n",
    "        for student in students:\n",
    "            student.tuition_value = student.tuition_value * 0.995\n",
    "    \n",
    "    if time % university_timestep == 0:\n",
    "        university.update(students)\n",
    "        university.consider_tuition()\n",
    "    \n",
    "    time = time + 1\n",
    "    \n",
    "    tuition_value_avg.append(np.mean([student.tuition_value for student in students]))\n",
    "    n_students.append(np.sum([int(student.paying) for student in students]))\n",
    "    tuition.append(university.tuition)\n",
    "    development.append(university.development)\n",
    "\n",
    "plt.figure()\n",
    "plt.plot(np.arange(0, TIME_LIMIT, 1), n_students)\n",
    "plt.xlabel(\"Time\")\n",
    "plt.ylabel(\"Number of Students Attending\")\n",
    "plt.show()\n",
    "\n",
    "plt.figure()\n",
    "plt.plot(np.arange(0, TIME_LIMIT, 1), tuition_value_avg)\n",
    "plt.xlabel(\"Time\")\n",
    "plt.ylabel(\"Average tuition value\")\n",
    "plt.show()\n",
    "\n",
    "plt.figure()\n",
    "plt.plot(np.arange(0, TIME_LIMIT, 1), tuition, label='Tuition')\n",
    "plt.plot(np.arange(0, TIME_LIMIT, 1), development, label='Development')\n",
    "plt.xlabel(\"Time\")\n",
    "plt.ylabel(\"University Parameters\")\n",
    "plt.legend()\n",
    "plt.show()"
   ]
  },
  {
   "cell_type": "markdown",
   "metadata": {},
   "source": [
    "In this schema, the university is able to raise tuition more, but it ultimately leads to the same result as before. "
   ]
  },
  {
   "cell_type": "markdown",
   "metadata": {},
   "source": [
    "A few dynamical notes\n",
    "1. The development grows logarithmically while the tuition grows linearly. Therefore, even if you value development much more than you care about tuition, it will still be too much in the end. \n",
    "2. The number of students always drops - but in reality, the number of students is increasing, with student loans making up the economic difference. This might be modeled as another object class - the \"economy\", which can make the student base hardship more or less bad, depending on group.\n",
    "3. I think this points to a fundamental question overall, which is: why are students willing to pay more under normal conditions? Because covid-19 will either challenge or not challenge that reason. \n",
    "4. I think another dynamic from covid-19 will be to decrease the \"perceived\" development of the university - after all, what are the buildings good for if you're taking all your classes online?"
   ]
  },
  {
   "cell_type": "code",
   "execution_count": null,
   "metadata": {},
   "outputs": [],
   "source": []
  }
 ],
 "metadata": {
  "kernelspec": {
   "display_name": "Python 3",
   "language": "python",
   "name": "python3"
  },
  "language_info": {
   "codemirror_mode": {
    "name": "ipython",
    "version": 3
   },
   "file_extension": ".py",
   "mimetype": "text/x-python",
   "name": "python",
   "nbconvert_exporter": "python",
   "pygments_lexer": "ipython3",
   "version": "3.7.4"
  }
 },
 "nbformat": 4,
 "nbformat_minor": 2
}
